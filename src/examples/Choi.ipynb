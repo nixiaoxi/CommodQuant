{
 "cells": [
  {
   "cell_type": "code",
   "execution_count": 2,
   "metadata": {
    "dotnet_interactive": {
     "language": "fsharp"
    },
    "polyglot_notebook": {
     "kernelName": "fsharp"
    }
   },
   "outputs": [
    {
     "data": {
      "text/html": [
       "<div><div></div><div></div><div><strong>Installed Packages</strong><ul><li><span>MathNet.Numerics, 5.0.0</span></li><li><span>MathNet.Numerics.FSharp, 5.0.0</span></li></ul></div></div>"
      ]
     },
     "metadata": {},
     "output_type": "display_data"
    }
   ],
   "source": [
    "#r \"nuget: MathNet.Numerics\"\n",
    "#r \"nuget: MathNet.Numerics.FSharp\""
   ]
  },
  {
   "cell_type": "code",
   "execution_count": 3,
   "metadata": {
    "dotnet_interactive": {
     "language": "fsharp"
    },
    "polyglot_notebook": {
     "kernelName": "fsharp"
    }
   },
   "outputs": [],
   "source": [
    "open System\n",
    "open MathNet.Numerics\n",
    "open MathNet.Numerics.Distributions\n",
    "open MathNet.Numerics.LinearAlgebra\n",
    "open MathNet.Numerics.Integration\n"
   ]
  },
  {
   "cell_type": "code",
   "execution_count": 4,
   "metadata": {
    "dotnet_interactive": {
     "language": "fsharp"
    },
    "polyglot_notebook": {
     "kernelName": "fsharp"
    }
   },
   "outputs": [],
   "source": [
    "    ///3 point gauss-hermite (https://en.wikipedia.org/wiki/Gauss%E2%80%93Hermite_quadrature)\n",
    "    ///constants taken from numpy.polynomial.hermite.hermgauss(3) wiht precision 10.\n",
    "    ///for low point integration to work well, the function should be smooth.\n",
    "    let gh3 f = \n",
    "        let h3 = [1.2247448714;  0.        ;1.2247448714]\n",
    "        let w3 = [0.2954089752; 1.1816359006 ; 0.2954089752]\n",
    "        let cons = 1.0/sqrt(System.Math.PI)\n",
    "        let s2 = sqrt 2.0\n",
    "        // degree 3\n",
    "        ((w3,h3) ||> List.map2( fun x y -> x * (f (y*s2))) |> List.sum ) * cons"
   ]
  },
  {
   "cell_type": "code",
   "execution_count": 5,
   "metadata": {
    "dotnet_interactive": {
     "language": "fsharp"
    },
    "polyglot_notebook": {
     "kernelName": "fsharp"
    }
   },
   "outputs": [],
   "source": [
    "    let gh34 f = \n",
    "        let cons = 1.0/sqrt(System.Math.PI)\n",
    "        let s2 = sqrt 2.0\n",
    "        let h3 = [1.2247448714;  0.        ;1.2247448714]\n",
    "        let w3 = [0.2954089752; 1.1816359006 ; 0.2954089752]\n",
    "        let d = List.zip h3 w3\n",
    "        [ for x in d do\n",
    "            for y in d do\n",
    "                for z in d do\n",
    "                    for z1 in d do\n",
    "                        yield (x,y,z,z1)]\n",
    "        |> List.map( fun ((x1,y1),(x2,y2),(x3,y3),(x4,y4)) -> \n",
    "            let w = y1*y2*y3*y4 \n",
    "            w * (f (x1*s2) (x2*s2) (x3*s2) (x4*s2))) \n",
    "        |> List.sum \n",
    "        |> (*) cons"
   ]
  },
  {
   "cell_type": "code",
   "execution_count": 6,
   "metadata": {
    "dotnet_interactive": {
     "language": "fsharp"
    },
    "polyglot_notebook": {
     "kernelName": "fsharp"
    }
   },
   "outputs": [],
   "source": [
    "    let appendVector (v1:Vector<float>) (v2:Vector<float>) =\n",
    "        v1.ToColumnMatrix().Stack(v2.ToColumnMatrix()).Column(0);\n",
    "\n",
    "    let householderR (q:Vector<float>) =\n",
    "        let n = q.Count\n",
    "        let e = DenseVector.init n (fun n -> if n = 0 then 1.0 else 0.0)\n",
    "        let q' = (q - e )\n",
    "        let v = q' / q'.L2Norm()\n",
    "        DiagonalMatrix.identity n - 2.0 * v.OuterProduct(v)"
   ]
  },
  {
   "cell_type": "code",
   "execution_count": 7,
   "metadata": {
    "dotnet_interactive": {
     "language": "fsharp"
    },
    "polyglot_notebook": {
     "kernelName": "fsharp"
    }
   },
   "outputs": [],
   "source": [
    "\n",
    "    // a time matrix for VCV using min ( T1 T2 )\n",
    "    let getTmatrix (T1:Vector<float>) (T2:Vector<float>) =\n",
    "        let onesT1 = Vector.Build.Dense (T1.Count, 1.)\n",
    "        let onesT2 = Vector.Build.Dense( T2.Count , 1. )\n",
    "        let tmatrix2 = onesT1.OuterProduct T2\n",
    "        let tmatrix1 = T1.OuterProduct onesT2\n",
    "        tmatrix1.PointwiseMinimum tmatrix2"
   ]
  },
  {
   "cell_type": "code",
   "execution_count": 10,
   "metadata": {
    "dotnet_interactive": {
     "language": "fsharp"
    },
    "polyglot_notebook": {
     "kernelName": "fsharp"
    }
   },
   "outputs": [],
   "source": [
    "    ///Sigma = rho v_k v_j min(t_k, t_j)\n",
    "    let getSigma (v1:Vector<float>) (t1:Vector<float>) (v2:Vector<float>) (t2:Vector<float>) (rho:float) = \n",
    "        let tmatrix = getTmatrix t1 t2\n",
    "        (v1.OuterProduct v2).*tmatrix*rho"
   ]
  },
  {
   "cell_type": "code",
   "execution_count": 11,
   "metadata": {
    "dotnet_interactive": {
     "language": "fsharp"
    },
    "polyglot_notebook": {
     "kernelName": "fsharp"
    }
   },
   "outputs": [],
   "source": [
    "    ///get V with Choi's method for 2 assets with constant correlation.\n",
    "    let getVChoi (f1:Vector<float>) (fw1:Vector<float>) (t1:Vector<float>) (v1:Vector<float>) \n",
    "        (f2:Vector<float>) (fw2:Vector<float>) (t2:Vector<float>) v2 (rho:float) = \n",
    "            let f1w = f1 .* fw1 //1st asset weighted\n",
    "            let f2w = f2 .* fw2\n",
    "            let w = appendVector fw1 fw2 \n",
    "            let v = appendVector v1 v2 \n",
    "            let n = f1.Count + f2.Count\n",
    "            //assuming constant correlation between 2 assets.\n",
    "            let g' = appendVector f1w f2w \n",
    "            let g = (g'/ (g'.L2Norm()))\n",
    "            let sigma12 = getSigma v1 t1 v2 t2 rho\n",
    "            let sigma11 = getSigma v1 t1 v1 t1 1.0\n",
    "            let sigma22 = getSigma v2 t2 v2 t2 1.0\n",
    "            let sigma = sigma11.Stack( sigma12 ).Append((sigma12.Transpose().Stack(sigma22)))\n",
    "            let c = sigma.Cholesky().Factor //cholesky\n",
    "            let den = (sqrt( g.ToRowMatrix() * sigma * g.ToColumnMatrix())).Item(0,0) //should be a scalar \n",
    "            let Q1 = (c.Transpose() * g.ToColumnMatrix() ) /den\n",
    "            let V1 = (c * Q1)// need to adjust so that w_k V_k1 > 0\n",
    "            let eps = 0.01 //how to choose this? \n",
    "            let V1' = DenseVector.init n ( fun n -> \n",
    "                if V1.[n,0] * w.[n] > 0. \n",
    "                then V1.[n,0] \n",
    "                else\n",
    "                   let s = if w.[n] > 0. then 1.0 else -1.0\n",
    "                   eps * s * v.[n] )       \n",
    "            //let mu = 0.99 //how to choose this?\n",
    "            let Q1' = c.Inverse() * ( V1' / V1'.L2Norm())\n",
    "            let R = householderR Q1'\n",
    "            let CR = c * R \n",
    "            let CR' = CR.SubMatrix(0, n, 1, n-1) //drop 1st column.\n",
    "            let svd = CR'.Svd()\n",
    "            V1* svd.U * svd.W"
   ]
  }
 ],
 "metadata": {
  "kernelspec": {
   "display_name": ".NET (C#)",
   "language": "C#",
   "name": ".net-csharp"
  },
  "language_info": {
   "file_extension": ".fs",
   "mimetype": "text/x-fsharp",
   "name": "polyglot-notebook",
   "pygments_lexer": "fsharp",
   "version": "4.5"
  },
  "polyglot_notebook": {
   "kernelInfo": {
    "defaultKernelName": "csharp",
    "items": [
     {
      "aliases": [],
      "name": "csharp"
     },
     {
      "aliases": [],
      "name": "fsharp"
     }
    ]
   }
  }
 },
 "nbformat": 4,
 "nbformat_minor": 4
}
